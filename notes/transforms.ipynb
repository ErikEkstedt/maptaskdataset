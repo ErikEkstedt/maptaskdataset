{
 "cells": [
  {
   "cell_type": "markdown",
   "metadata": {},
   "source": [
    "# Todo\n",
    "\n",
    "## Visualize different data transform packages\n",
    "\n",
    "* [pyworld]()\n",
    "* [pysptk]()\n",
    "* [librosa]()\n",
    "* [torchaudio]()\n",
    "\n",
    "\n",
    "## Load data\n",
    "\n",
    "Import dependencies for loading a datafile and visualizing data."
   ]
  },
  {
   "cell_type": "code",
   "execution_count": null,
   "metadata": {},
   "outputs": [],
   "source": [
    "import os\n",
    "from glob import glob\n",
    "import numpy as np\n",
    "from scipy.io import wavfile\n",
    "import matplotlib.pyplot as plt\n",
    "from librosa.display import specshow, waveplot"
   ]
  },
  {
   "cell_type": "code",
   "execution_count": null,
   "metadata": {},
   "outputs": [],
   "source": [
    "import pysptk"
   ]
  },
  {
   "cell_type": "code",
   "execution_count": null,
   "metadata": {},
   "outputs": [],
   "source": [
    "import pyworld"
   ]
  },
  {
   "cell_type": "code",
   "execution_count": null,
   "metadata": {},
   "outputs": [],
   "source": [
    "import librosa"
   ]
  },
  {
   "cell_type": "code",
   "execution_count": null,
   "metadata": {},
   "outputs": [],
   "source": [
    "import torchaudio"
   ]
  },
  {
   "cell_type": "code",
   "execution_count": null,
   "metadata": {},
   "outputs": [],
   "source": [
    "if __name__ == \"__main__\":\n",
    "    # TODO\n",
    "    # Make ipynb comparing extraction methods\n",
    "    # Plot f0 & pitch\n",
    "    # Load Data\n",
    "\n",
    "    testpath = \"/Users/erik/maptaskdataset/maptask/data/dialogues/q1ec1.mix.wav\"\n",
    "    sr, wav = wavfile.read(testpath)\n",
    "    duration = 8\n",
    "    wav = wav[:sr*duration]\n",
    "    x = wav[:sr*duration, 0]\n",
    "    x = np.ascontiguousarray(wav[:16000, 0]).astype(np.float64)\n",
    "\n",
    "    pysptk_pitch = pysptk.swipe(x[:2000], fs=sr, hopsize=hop_length,\n",
    "                                min=f0_floor, max=f0_ceil, otype=\"pitch\")\n",
    "    pyspkt_f0_swipe = pysptk.swipe(x, fs=sr, hopsize=hop_length,\n",
    "                                   min=f0_floor, max=f0_ceil, otype=\"f0\")\n",
    "    pyspkt_f0_rapt = pysptk.rapt(x.astype(np.float32), fs=sr, hopsize=hop_length,\n",
    "                                 min=f0_floor, max=f0_ceil, otype=\"f0\")\n",
    "    f0, timeaxis = pyworld.dio(x, fs=sr, f0_floor=f0_floor,\n",
    "                               f0_ceil=f0_ceil, frame_period=frame_period)\n",
    "    f0 = pyworld.stonemask(x, f0, timeaxis, fs)\n",
    "\n",
    "\n",
    "\n",
    "    # Spectrogram: magnitude**2\n",
    "    sp = pyworld.cheaptrick(x, f0, timeaxis, fs, fft_size=fft_length)  \n",
    "    mel_spec = pysptk.sp2mc(sp, order=order, alpha=alpha)\n",
    "    ap = pyworld.d4c(x, f0, timeaxis, fs, fft_size=fft_length)  # Aperiodicity\n",
    "    mel_spec_audio = audio.melspectrogram(x)\n",
    "    mfcc = pysptk.mfcc(mel_spec, fs=sr, alpha=alpha, order=80, num_filterbanks=100)\n",
    "    mfcc = standardize_mfcc(mfcc)\n",
    "    energy = pysptk.mc2e(mel_spec, alpha=alpha)"
   ]
  }
 ],
 "metadata": {},
 "nbformat": 4,
 "nbformat_minor": 2
}
