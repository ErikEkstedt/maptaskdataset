{
 "cells": [
  {
   "cell_type": "markdown",
   "metadata": {},
   "source": [
    "# Todo\n",
    "\n",
    "* Add visuals\n",
    "* Synthesize Audio\n",
    "\n",
    "## Visualize different data transform packages\n",
    "\n",
    "* [pyworld](https://github.com/JeremyCCHsu/Python-Wrapper-for-World-Vocoder)\n",
    "* [pysptk](https://github.com/r9y9/pysptk)\n",
    "* [librosa](https://github.com/librosa)\n",
    "* [torchaudio](https://github.com/pytorch/audio)\n",
    "\n",
    "## Load data\n",
    "\n",
    "Import dependencies for loading a datafile and visualizing data."
   ]
  },
  {
   "cell_type": "code",
   "execution_count": null,
   "metadata": {},
   "outputs": [],
   "source": [
    "import os\n",
    "from glob import glob\n",
    "import numpy as np\n",
    "from scipy.io.wavfile import read\n",
    "import matplotlib.pyplot as plt\n",
    "from librosa.display import specshow, waveplot"
   ]
  },
  {
   "cell_type": "markdown",
   "metadata": {},
   "source": [
    "Load demo data and split the two channels"
   ]
  },
  {
   "cell_type": "code",
   "execution_count": null,
   "metadata": {},
   "outputs": [],
   "source": [
    "sr, wav = read('data/demo.wav')\n",
    "\n",
    "print('sample rate: ', sr)\n",
    "print('wav shape: ', wav.shape)\n",
    "print('wav dtype: ', wav.dtype)\n",
    "\n",
    "x = wav[:, 0]\n",
    "y = wav[:, 1]"
   ]
  },
  {
   "cell_type": "markdown",
   "metadata": {},
   "source": [
    "## Settings"
   ]
  },
  {
   "cell_type": "code",
   "execution_count": null,
   "metadata": {},
   "outputs": [],
   "source": [
    "fft_length=1024\n",
    "hop_length=256\n",
    "frame_period=12.8  # hop_length/sr = 0.0128 s = 12.8 ms\n",
    "alpha=0.441\n",
    "order=40\n",
    "f0_floor=71.\n",
    "f0_ceil=800.\n",
    "n_mfcc=20\n",
    "norm_mfcc=True\n",
    "use_mel=False\n",
    "n_mels=128\n",
    "bc_threshold=0.33"
   ]
  },
  {
   "cell_type": "markdown",
   "metadata": {},
   "source": [
    "### pysptk\n",
    "\n",
    "Starting with pysptk"
   ]
  },
  {
   "cell_type": "code",
   "execution_count": null,
   "metadata": {},
   "outputs": [],
   "source": [
    "import pysptk\n",
    "\n",
    "x = np.ascontiguousarray(x).astype(np.float64)\n",
    "y = np.ascontiguousarray(y).astype(np.float64)\n",
    "\n",
    "pitch = pysptk.swipe(x, fs=sr, hopsize=hop_length,\n",
    "                            min=f0_floor, max=f0_ceil, otype=\"pitch\")\n",
    "f0_swipe = pysptk.swipe(x, fs=sr, hopsize=hop_length,\n",
    "                        min=f0_floor, max=f0_ceil, otype=\"f0\")\n",
    "f0_rapt = pysptk.rapt(x.astype(np.float32), fs=sr, hopsize=hop_length,\n",
    "                             min=f0_floor, max=f0_ceil, otype=\"f0\")\n",
    "\n",
    "# mel_spec = pysptk.sp2mc(sp, order=order, alpha=alpha) */\n",
    "# mfcc = pysptk.mfcc(mel_spec, fs=sr, alpha=alpha, order=80, num_filterbanks=100) */\n",
    "# energy = pysptk.mc2e(mel_spec, alpha=alpha) */\n",
    "\n",
    "print('Pysptk')\n",
    "print('F0 (swap): {}, mean: {}'.format(f0_swipe.shape, f0_swipe.mean()))\n",
    "print('F0 (swap): {}, mean: {}'.format(f0_rapt.shape, f0_rapt.mean()))"
   ]
  },
  {
   "cell_type": "code",
   "execution_count": null,
   "metadata": {},
   "outputs": [],
   "source": [
    "import pyworld\n",
    "\n",
    "f0, timeaxis = pyworld.dio(x, fs=sr, f0_floor=f0_floor,\n",
    "                           f0_ceil=f0_ceil, frame_period=frame_period)\n",
    "f0 = pyworld.stonemask(x, f0, timeaxis, sr)\n",
    "sp = pyworld.cheaptrick(x, f0, timeaxis, sr, fft_size=fft_length)\n",
    "ap = pyworld.d4c(x, f0, timeaxis, sr, fft_size=fft_length)  # Aperiodicity\n",
    "\n",
    "print('PyWorld')\n",
    "print('F0: {}, mean: {}'.format(f0.shape, f0.mean()))\n",
    "print('Spectrogram: {}, mean: {}'.format(sp.shape, sp.mean()))\n",
    "print('Aperiodicity: '.format(ap.shape, ap.mean()))"
   ]
  },
  {
   "cell_type": "code",
   "execution_count": null,
   "metadata": {},
   "outputs": [],
   "source": [
    "import librosa\n",
    "\n",
    "sp = np.abs(librosa.stft(x))\n",
    "spec = librosa.amplitude_to_db(sp, ref=np.max)\n",
    "\n",
    "mel_spec = librosa.feature.melspectrogram(x, sr=sr, n_fft=fft_length,\n",
    "                                          hop_length=hop_length)\n",
    "\n",
    "print('Librosa')\n",
    "print('sp: {}, mean: {}'.format(sp.shape, sp.mean()))\n",
    "print('Spectrogram: {}, mean: {}'.format(spec.shape, spec.mean()))\n",
    "print('MelSpectrogram: {}, mean: {}'.format(mel_spec.shape, mel_spec.mean()))"
   ]
  },
  {
   "cell_type": "code",
   "execution_count": null,
   "metadata": {},
   "outputs": [],
   "source": [
    "import torchaudio"
   ]
  }
 ],
 "metadata": {},
 "nbformat": 4,
 "nbformat_minor": 2
}
